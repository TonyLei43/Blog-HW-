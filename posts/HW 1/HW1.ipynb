{
 "cells": [
  {
   "cell_type": "markdown",
   "metadata": {},
   "source": [
    "---\n",
    "title: \"Homework 1: What's the averarge temperature?\"\n",
    "author: \"Tony Lei\"\n",
    "date: \"2023-10-12\"\n",
    "categories: [Week 2, Homework]\n",
    "---"
   ]
  },
  {
   "cell_type": "markdown",
   "metadata": {},
   "source": [
    "## Introduction\n",
    "In this tutorial, we will learn how to work with databases, geographical data and how to visualize them using the `matplotlib` library. The data we will be using is the **NOAA climate data** which we will explore in the next few cells."
   ]
  },
  {
   "cell_type": "markdown",
   "metadata": {},
   "source": [
    "## Creating A Database\n",
    "We will first create a **database** in which we will store our dataframes. I like to think of them as a big warehouse where you can retrieve dataframes on command. This allows us to move large datasets into memory. We will use Python's built-in module called `sqlite3` to create, maipulate, and query the database. First, let's import the `sqlite3` module and create a connection by \n"
   ]
  },
  {
   "cell_type": "code",
   "execution_count": 1,
   "metadata": {},
   "outputs": [],
   "source": [
    "import sqlite3\n",
    "connection = sqlite3.connect(\"temps.db\")"
   ]
  },
  {
   "cell_type": "markdown",
   "metadata": {},
   "source": [
    "`sqlite3.connect(\"temps.db\")` allows us to \"connect\" with the database. "
   ]
  },
  {
   "cell_type": "markdown",
   "metadata": {},
   "source": []
  }
 ],
 "metadata": {
  "kernelspec": {
   "display_name": "PIC16B",
   "language": "python",
   "name": "python3"
  },
  "language_info": {
   "codemirror_mode": {
    "name": "ipython",
    "version": 3
   },
   "file_extension": ".py",
   "mimetype": "text/x-python",
   "name": "python",
   "nbconvert_exporter": "python",
   "pygments_lexer": "ipython3",
   "version": "3.9.18"
  },
  "orig_nbformat": 4
 },
 "nbformat": 4,
 "nbformat_minor": 2
}
